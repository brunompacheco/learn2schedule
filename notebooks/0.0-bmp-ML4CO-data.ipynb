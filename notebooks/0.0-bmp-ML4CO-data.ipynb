{
 "cells": [
  {
   "cell_type": "code",
   "execution_count": 1,
   "metadata": {},
   "outputs": [],
   "source": [
    "%load_ext autoreload\n",
    "%autoreload 2\n",
    "\n",
    "import sys\n",
    "sys.path.append('..')  # enable import from src/"
   ]
  },
  {
   "cell_type": "code",
   "execution_count": 2,
   "metadata": {},
   "outputs": [],
   "source": [
    "from pathlib import Path\n",
    "\n",
    "import matplotlib.pyplot as plt\n",
    "import numpy as np\n",
    "\n",
    "from src.problem import load_model"
   ]
  },
  {
   "cell_type": "code",
   "execution_count": 3,
   "metadata": {},
   "outputs": [
    {
     "data": {
      "text/plain": [
       "20"
      ]
     },
     "execution_count": 3,
     "metadata": {},
     "output_type": "execute_result"
    }
   ],
   "source": [
    "data_dir = Path('../data/raw/instances/3_anonymous')\n",
    "\n",
    "instances_fps = list(data_dir.glob('valid/*.mps.gz'))\n",
    "len(instances_fps)"
   ]
  },
  {
   "cell_type": "code",
   "execution_count": 20,
   "metadata": {},
   "outputs": [
    {
     "name": "stdout",
     "output_type": "stream",
     "text": [
      "13.551020408163266\n"
     ]
    },
    {
     "data": {
      "image/png": "[encoded data removed]",
      "text/plain": [
       "<Figure size 640x480 with 1 Axes>"
      ]
     },
     "metadata": {},
     "output_type": "display_data"
    }
   ],
   "source": [
    "sols_dir = Path('../data/interim/solutions/3_anonymous/')\n",
    "\n",
    "instances_fps = list(data_dir.glob('train/*.mps.gz'))\n",
    "n_sols = list()\n",
    "for instance_fp in instances_fps:\n",
    "    instance_name = instance_fp.name.split(\".\")[0]\n",
    "    solutions_fps = list(sols_dir.glob(f'{instance_name}_*.sol.gz'))\n",
    "    n_sols.append(len(solutions_fps))\n",
    "print(np.mean(n_sols))\n",
    "\n",
    "plt.hist(n_sols)\n",
    "plt.show()"
   ]
  },
  {
   "cell_type": "code",
   "execution_count": 21,
   "metadata": {},
   "outputs": [
    {
     "name": "stdout",
     "output_type": "stream",
     "text": [
      "anonymous_0.mps.gz\n",
      "original problem has 92261 variables (36960 bin, 0 int, 0 impl, 55301 cont) and 126621 constraints\n",
      "presolving:\n",
      "(round 1, fast)       58283 del vars, 89047 del conss, 619 add conss, 111586 chg bounds, 139 chg sides, 100 chg coeffs, 0 upgd conss, 1464 impls, 2142 clqs\n",
      "(round 2, fast)       83700 del vars, 115326 del conss, 623 add conss, 112107 chg bounds, 139 chg sides, 100 chg coeffs, 0 upgd conss, 1464 impls, 1917 clqs\n",
      "(round 3, fast)       83962 del vars, 115787 del conss, 631 add conss, 112250 chg bounds, 139 chg sides, 100 chg coeffs, 0 upgd conss, 1464 impls, 1910 clqs\n",
      "(round 4, fast)       84034 del vars, 115910 del conss, 632 add conss, 112288 chg bounds, 139 chg sides, 100 chg coeffs, 0 upgd conss, 1464 impls, 1886 clqs\n",
      "(round 5, fast)       84058 del vars, 115946 del conss, 632 add conss, 112293 chg bounds, 139 chg sides, 100 chg coeffs, 0 upgd conss, 1464 impls, 1885 clqs\n",
      "   (0.3s) running MILP presolver\n",
      "   (0.5s) MILP presolver (55 rounds): 1370 aggregations, 419 fixings, 0 bound changes\n",
      "(round 6, medium)     85851 del vars, 126646 del conss, 8310 add conss, 112293 chg bounds, 139 chg sides, 100 chg coeffs, 0 upgd conss, 1464 impls, 959 clqs\n",
      "(round 7, fast)       85852 del vars, 126667 del conss, 8399 add conss, 112297 chg bounds, 139 chg sides, 108 chg coeffs, 0 upgd conss, 1485 impls, 1867 clqs\n",
      "(round 8, exhaustive) 85852 del vars, 126731 del conss, 8400 add conss, 112298 chg bounds, 145 chg sides, 108 chg coeffs, 0 upgd conss, 1485 impls, 1867 clqs\n",
      "(round 9, exhaustive) 85852 del vars, 126731 del conss, 8400 add conss, 112298 chg bounds, 145 chg sides, 108 chg coeffs, 2723 upgd conss, 1485 impls, 1867 clqs\n",
      "   (0.8s) probing: 1000/2843 (35.2%) - 0 fixings, 0 aggregations, 31401 implications, 6 bound changes\n",
      "   (0.8s) probing: 1001/2843 (35.2%) - 0 fixings, 0 aggregations, 31401 implications, 6 bound changes\n",
      "   (0.8s) probing aborted: 1000/1000 successive useless probings\n",
      "   (0.9s) symmetry computation started: requiring (bin +, int -, cont +), (fixed: bin -, int +, cont -)\n",
      "   (0.9s) no symmetry present (symcode time: 0.00)\n",
      "   (0.9s) symmetry computation started: requiring (bin +, int +, cont +), (fixed: bin -, int -, cont -)\n",
      "   (0.9s) no symmetry present (symcode time: 0.00)\n",
      "presolving (10 rounds: 10 fast, 4 medium, 3 exhaustive):\n",
      " 85852 deleted vars, 126732 deleted constraints, 8402 added constraints, 112304 tightened bounds, 0 added holes, 147 changed sides, 115 changed coefficients\n",
      " 31288 implications, 3635 cliques\n",
      "presolved problem has 6450 variables (2843 bin, 0 int, 544 impl, 3063 cont) and 8291 constraints\n",
      "    562 constraints of type <varbound>\n",
      "    296 constraints of type <knapsack>\n",
      "   1854 constraints of type <setppc>\n",
      "   5567 constraints of type <linear>\n",
      "     12 constraints of type <logicor>\n",
      "Presolving Time: 0.76\n",
      "\n",
      " time | node  | left  |LP iter|LP it/n|mem/heur|mdpt |vars |cons |rows |cuts |sepa|confs|strbr|  dualbound   | primalbound  |  gap   | compl. \n",
      "  2.3s|     1 |     0 | 11916 |     - |   419M |   0 |6450 |8293 |8291 |   0 |  0 |   3 |   0 | 3.124100e+03 |      --      |    Inf | unknown\n",
      "  3.6s|     1 |     0 | 18422 |     - |   428M |   0 |6450 |8296 |8293 |   2 |  1 |   6 |   0 | 3.124100e+03 |      --      |    Inf | unknown\n",
      "  5.6s|     1 |     0 | 29038 |     - |   431M |   0 |6450 |8300 |8295 |   4 |  2 |  10 |   0 | 3.124100e+03 |      --      |    Inf | unknown\n",
      "  6.3s|     1 |     0 | 33381 |     - |   436M |   0 |6450 |8301 |8305 |  14 |  3 |  11 |   0 | 3.124100e+03 |      --      |    Inf | unknown\n",
      "  7.2s|     1 |     0 | 38527 |     - |   440M |   0 |6450 |8301 |8311 |  20 |  4 |  11 |   0 | 3.124100e+03 |      --      |    Inf | unknown\n",
      "  7.4s|     1 |     0 | 38568 |     - |   442M |   0 |6450 |8301 |8312 |  21 |  5 |  11 |   0 | 3.124100e+03 |      --      |    Inf | unknown\n",
      "  8.2s|     1 |     0 | 43085 |     - |   443M |   0 |6450 |8301 |8316 |  25 |  6 |  11 |   0 | 3.124100e+03 |      --      |    Inf | unknown\n",
      " 10.3s|     1 |     0 | 53884 |     - |   446M |   0 |6450 |8303 |8324 |  33 |  7 |  13 |   0 | 3.124100e+03 |      --      |    Inf | unknown\n",
      " 11.2s|     1 |     0 | 59487 |     - |   449M |   0 |6450 |8303 |8331 |  40 |  8 |  13 |   0 | 3.124100e+03 |      --      |    Inf | unknown\n",
      " 12.1s|     1 |     0 | 64534 |     - |   452M |   0 |6450 |8303 |8335 |  44 |  9 |  13 |   0 | 3.124100e+03 |      --      |    Inf | unknown\n",
      " 13.0s|     1 |     0 | 69218 |     - |   456M |   0 |6450 |8303 |8338 |  47 | 10 |  13 |   0 | 3.124100e+03 |      --      |    Inf | unknown\n",
      " 13.0s|     1 |     0 | 69226 |     - |   458M |   0 |6450 |8307 |8341 |  50 | 11 |  17 |   0 | 3.124100e+03 |      --      |    Inf | unknown\n",
      " 13.0s|     1 |     0 | 69256 |     - |   459M |   0 |6450 |8307 |8344 |  53 | 12 |  17 |   0 | 3.124100e+03 |      --      |    Inf | unknown\n",
      " 23.8s|     1 |     2 |117100 |     - |   460M |   0 |6450 |8310 |8344 |  53 | 12 |  20 |  24 | 3.124100e+03 |      --      |    Inf | unknown\n",
      " 48.7s|   100 |    34 |133249 | 646.4 |   486M |  15 |6450 |7925 |7730 | 126 |  1 | 337 | 883 | 4.224692e+03 |      --      |    Inf |  83.80%\n",
      " time | node  | left  |LP iter|LP it/n|mem/heur|mdpt |vars |cons |rows |cuts |sepa|confs|strbr|  dualbound   | primalbound  |  gap   | compl. \n",
      " 52.8s|   200 |    70 |147562 | 393.5 |   511M |  21 |6450 |8113 |   0 | 214 |  0 | 562 | 968 | 4.416594e+03 |      --      |    Inf |  86.19%\n",
      " 55.8s|   300 |    94 |158679 | 299.1 |   515M |  21 |6450 |8377 |7737 | 268 |  1 | 868 |1056 | 4.538893e+03 |      --      |    Inf |  87.04%\n",
      " 58.4s|   400 |   114 |164764 | 239.4 |   523M |  21 |6450 |8520 |7741 | 336 |  3 |1042 |1090 | 5.209573e+03 |      --      |    Inf |  90.43%\n",
      "\n",
      "SCIP Status        : solving was interrupted [time limit reached]\n",
      "Solving Time (sec) : 60.00\n",
      "Solving Nodes      : 468\n",
      "Primal Bound       : +1.00000000000000e+20 (0 solutions)\n",
      "Dual Bound         : +5.23212357534544e+03\n",
      "Gap                : infinite\n"
     ]
    }
   ],
   "source": [
    "instance_fp = np.random.choice(instances_fps)\n",
    "print(instance_fp.name)\n",
    "\n",
    "m = load_model(instance_fp)\n",
    "m.setRealParam('limits/time', 60.0)\n",
    "m.setIntParam('limits/maxsol', 500)\n",
    "m.setBoolParam('constraints/countsols/collect', True)\n",
    "\n",
    "m.optimize()"
   ]
  },
  {
   "cell_type": "code",
   "execution_count": 24,
   "metadata": {},
   "outputs": [],
   "source": [
    "t, x = m.get_primal_curve()\n",
    "\n",
    "primal_t, primal_x = m.get_primal_curve()\n",
    "dual_t, dual_x = m.get_dual_curve()\n",
    "\n",
    "np.savez('test.npz', primal_t=primal_t,\n",
    "            primal_x=primal_x, dual_t=dual_t, dual_x=dual_x)"
   ]
  },
  {
   "cell_type": "code",
   "execution_count": 34,
   "metadata": {},
   "outputs": [
    {
     "data": {
      "image/png": "[encoded data removed]",
      "text/plain": [
       "<Figure size 640x480 with 1 Axes>"
      ]
     },
     "metadata": {},
     "output_type": "display_data"
    }
   ],
   "source": [
    "bounds = np.load('../data/interim/solutions/3_anonymous/anonymous_6_bounds.npz')\n",
    "\n",
    "plt.plot(bounds['primal_t'], bounds['primal_x'], label='primal')\n",
    "plt.plot(bounds['dual_t'], bounds['dual_x'], label='dual')\n",
    "\n",
    "plt.ylim(1e3, 1e5)\n",
    "plt.yscale('log')\n",
    "\n",
    "plt.show()"
   ]
  },
  {
   "cell_type": "code",
   "execution_count": 66,
   "metadata": {},
   "outputs": [
    {
     "data": {
      "image/png": "[encoded data removed]",
      "text/plain": [
       "<Figure size 640x480 with 1 Axes>"
      ]
     },
     "metadata": {},
     "output_type": "display_data"
    }
   ],
   "source": [
    "plt.plot(*m.get_primal_curve(), label='primal')\n",
    "plt.plot(*m.get_dual_curve(), label='dual')\n",
    "plt.ylim(0,1e6)\n",
    "\n",
    "plt.legend()\n",
    "plt.show()"
   ]
  }
 ],
 "metadata": {
  "kernelspec": {
   "display_name": "msc",
   "language": "python",
   "name": "python3"
  },
  "language_info": {
   "codemirror_mode": {
    "name": "ipython",
    "version": 3
   },
   "file_extension": ".py",
   "mimetype": "text/x-python",
   "name": "python",
   "nbconvert_exporter": "python",
   "pygments_lexer": "ipython3",
   "version": "3.11.7"
  },
  "orig_nbformat": 4
 },
 "nbformat": 4,
 "nbformat_minor": 2
}
