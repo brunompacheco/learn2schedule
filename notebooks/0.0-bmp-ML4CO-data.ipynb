{
 "cells": [
  {
   "cell_type": "code",
   "execution_count": 1,
   "metadata": {},
   "outputs": [],
   "source": [
    "%load_ext autoreload\n",
    "%autoreload 2\n",
    "\n",
    "import sys\n",
    "sys.path.append('..')  # enable import from src/"
   ]
  },
  {
   "cell_type": "code",
   "execution_count": 19,
   "metadata": {},
   "outputs": [],
   "source": [
    "from pathlib import Path\n",
    "\n",
    "import matplotlib.pyplot as plt\n",
    "import numpy as np\n",
    "\n",
    "from src.problem import load_model"
   ]
  },
  {
   "cell_type": "code",
   "execution_count": 59,
   "metadata": {},
   "outputs": [
    {
     "data": {
      "text/plain": [
       "20"
      ]
     },
     "execution_count": 59,
     "metadata": {},
     "output_type": "execute_result"
    }
   ],
   "source": [
    "data_dir = Path('../data/raw/instances/3_anonymous')\n",
    "\n",
    "instances_fps = list(data_dir.glob('valid/*.mps.gz'))\n",
    "len(instances_fps)"
   ]
  },
  {
   "cell_type": "code",
   "execution_count": 60,
   "metadata": {},
   "outputs": [
    {
     "name": "stdout",
     "output_type": "stream",
     "text": [
      "anonymous_102.mps.gz\n",
      "original problem has 6049 variables (2456 bin, 2868 int, 0 impl, 725 cont) and 2160 constraints\n",
      "presolving:\n",
      "(round 1, fast)       1421 del vars, 113 del conss, 0 add conss, 2149 chg bounds, 0 chg sides, 0 chg coeffs, 0 upgd conss, 0 impls, 773 clqs\n",
      "(round 2, fast)       1421 del vars, 113 del conss, 0 add conss, 2161 chg bounds, 358 chg sides, 0 chg coeffs, 0 upgd conss, 0 impls, 1062 clqs\n",
      "(round 3, fast)       1426 del vars, 118 del conss, 0 add conss, 2161 chg bounds, 358 chg sides, 0 chg coeffs, 0 upgd conss, 0 impls, 1062 clqs\n",
      "   (0.0s) running MILP presolver\n",
      "   (0.0s) MILP presolver (7 rounds): 109 aggregations, 0 fixings, 12 bound changes\n",
      "(round 4, medium)     1538 del vars, 119 del conss, 0 add conss, 2173 chg bounds, 358 chg sides, 0 chg coeffs, 0 upgd conss, 0 impls, 1044 clqs\n",
      "(round 5, fast)       1538 del vars, 228 del conss, 0 add conss, 2173 chg bounds, 358 chg sides, 0 chg coeffs, 0 upgd conss, 0 impls, 1067 clqs\n",
      "(round 6, exhaustive) 1538 del vars, 228 del conss, 0 add conss, 2173 chg bounds, 358 chg sides, 0 chg coeffs, 363 upgd conss, 0 impls, 1067 clqs\n",
      "(round 7, exhaustive) 1539 del vars, 240 del conss, 0 add conss, 2173 chg bounds, 358 chg sides, 0 chg coeffs, 363 upgd conss, 0 impls, 1067 clqs\n",
      "   (0.1s) probing: 1000/2962 (33.8%) - 0 fixings, 0 aggregations, 22834 implications, 5 bound changes\n",
      "   (0.1s) probing: 1001/2962 (33.8%) - 0 fixings, 0 aggregations, 22866 implications, 5 bound changes\n",
      "   (0.1s) probing aborted: 1000/1000 successive useless probings\n",
      "   (0.1s) symmetry computation started: requiring (bin +, int -, cont +), (fixed: bin -, int +, cont -)\n",
      "   (0.1s) no symmetry present (symcode time: 0.00)\n",
      "   (0.1s) symmetry computation started: requiring (bin +, int +, cont +), (fixed: bin -, int -, cont -)\n",
      "   (0.1s) no symmetry present (symcode time: 0.00)\n",
      "presolving (8 rounds: 8 fast, 4 medium, 3 exhaustive):\n",
      " 1541 deleted vars, 241 deleted constraints, 0 added constraints, 2178 tightened bounds, 0 added holes, 358 changed sides, 0 changed coefficients\n",
      " 10400 implications, 13604 cliques\n",
      "presolved problem has 4508 variables (2967 bin, 1189 int, 0 impl, 352 cont) and 1919 constraints\n",
      "    350 constraints of type <setppc>\n",
      "   1569 constraints of type <linear>\n",
      "Presolving Time: 0.13\n",
      "\n",
      " time | node  | left  |LP iter|LP it/n|mem/heur|mdpt |vars |cons |rows |cuts |sepa|confs|strbr|  dualbound   | primalbound  |  gap   | compl. \n",
      "p 0.2s|     1 |     0 |     0 |     - |shiftand|   0 |4508 |1926 |1919 |   0 |  0 |   6 |   0 |-6.464778e+07 | 1.489425e+06 |    Inf | unknown\n",
      "  1.0s|     1 |     0 | 14579 |     - |    45M |   0 |4508 |1926 |1919 |   0 |  0 |   6 |   0 | 4.096505e+04 | 1.489425e+06 |3535.84%| unknown\n",
      "  1.1s|     1 |     0 | 14798 |     - |    48M |   0 |4508 |1926 |1929 |  10 |  1 |   6 |   0 | 4.097972e+04 | 1.489425e+06 |3534.54%| unknown\n",
      "  1.2s|     1 |     0 | 14900 |     - |    50M |   0 |4508 |1926 |1936 |  17 |  2 |   6 |   0 | 4.098706e+04 | 1.489425e+06 |3533.89%| unknown\n",
      "  1.2s|     1 |     0 | 15101 |     - |    50M |   0 |4508 |1926 |1949 |  30 |  3 |   6 |   0 | 4.104294e+04 | 1.489425e+06 |3528.94%| unknown\n",
      "  1.3s|     1 |     0 | 15256 |     - |    51M |   0 |4508 |1926 |1961 |  42 |  4 |   6 |   0 | 4.106232e+04 | 1.489425e+06 |3527.23%| unknown\n",
      "  1.4s|     1 |     0 | 15544 |     - |    51M |   0 |4508 |1927 |1973 |  54 |  5 |   7 |   0 | 4.107997e+04 | 1.489425e+06 |3525.67%| unknown\n",
      "  1.4s|     1 |     0 | 15663 |     - |    51M |   0 |4508 |1927 |1977 |  58 |  6 |   7 |   0 | 4.108134e+04 | 1.489425e+06 |3525.55%| unknown\n",
      "  1.5s|     1 |     0 | 16143 |     - |    53M |   0 |4508 |1927 |1990 |  71 |  7 |   7 |   0 | 4.109940e+04 | 1.489425e+06 |3523.96%| unknown\n",
      "  1.6s|     1 |     0 | 16333 |     - |    54M |   0 |4508 |1927 |2012 |  93 |  8 |   7 |   0 | 4.110582e+04 | 1.489425e+06 |3523.39%| unknown\n",
      "  1.7s|     1 |     0 | 16562 |     - |    54M |   0 |4508 |1927 |2025 | 106 |  9 |   7 |   0 | 4.111726e+04 | 1.489425e+06 |3522.38%| unknown\n",
      "  1.8s|     1 |     0 | 17145 |     - |    54M |   0 |4508 |1927 |2035 | 116 | 10 |   7 |   0 | 4.112705e+04 | 1.489425e+06 |3521.52%| unknown\n",
      "  1.8s|     1 |     0 | 17574 |     - |    55M |   0 |4508 |1927 |2048 | 129 | 11 |   7 |   0 | 4.113374e+04 | 1.489425e+06 |3520.93%| unknown\n",
      "d 2.3s|     1 |     0 | 23491 |     - |farkasdi|   0 |4508 |1931 |2048 |   0 | 11 |  11 |   0 | 4.113374e+04 | 2.739384e+05 | 565.97%| unknown\n",
      "L 2.6s|     1 |     0 | 27107 |     - |    alns|   0 |4508 |1933 |2048 | 129 | 11 |  13 |   0 | 4.113374e+04 | 2.711405e+05 | 559.17%| unknown\n",
      " time | node  | left  |LP iter|LP it/n|mem/heur|mdpt |vars |cons |rows |cuts |sepa|confs|strbr|  dualbound   | primalbound  |  gap   | compl. \n",
      "  2.6s|     1 |     0 | 27107 |     - |    56M |   0 |4508 |1933 |2048 | 129 | 11 |  13 |   0 | 4.113374e+04 | 2.711405e+05 | 559.17%| unknown\n",
      "  2.7s|     1 |     0 | 27481 |     - |    56M |   0 |4508 |1933 |2053 | 134 | 12 |  13 |   0 | 4.114010e+04 | 2.711405e+05 | 559.07%| unknown\n",
      "  2.7s|     1 |     0 | 27564 |     - |    56M |   0 |4508 |1933 |2059 | 140 | 13 |  13 |   0 | 4.114180e+04 | 2.711405e+05 | 559.04%| unknown\n",
      "  3.8s|     1 |     2 | 27564 |     - |    56M |   0 |4508 |1933 |2059 | 140 | 13 |  13 |  34 | 4.114803e+04 | 2.711405e+05 | 558.94%| unknown\n",
      "d14.1s|    35 |    36 | 38582 | 604.4 |adaptive|  19 |4508 |1932 |1968 |   0 |  1 |  13 | 516 | 4.114803e+04 | 1.532632e+05 | 272.47%| unknown\n",
      " 16.8s|   100 |   101 | 67647 | 501.2 |    64M |  23 |4508 |1936 |1967 | 232 |  1 |  17 | 543 | 4.114803e+04 | 1.532632e+05 | 272.47%| unknown\n",
      " 19.9s|   200 |   201 | 98079 | 402.3 |    65M |  32 |4508 |1990 |1968 | 272 |  1 |  71 | 582 | 4.114803e+04 | 1.532632e+05 | 272.47%| unknown\n",
      " 24.6s|   300 |   301 |147617 | 433.4 |    69M |  32 |4508 |1997 |1966 | 416 |  1 |  79 | 629 | 4.114803e+04 | 1.532632e+05 | 272.47%| unknown\n",
      "L24.7s|   301 |   302 |147823 | 432.6 |    alns|  32 |4508 |1997 |1969 | 419 |  2 |  79 | 629 | 4.114803e+04 | 1.300229e+05 | 215.99%| unknown\n",
      "L24.7s|   301 |   283 |147823 | 432.6 |    alns|  32 |4508 |1997 |1969 | 419 |  2 |  79 | 629 | 4.114803e+04 | 7.998899e+04 |  94.39%| unknown\n",
      " 30.6s|   400 |   376 |206610 | 472.6 |    72M |  32 |4508 |2009 |1963 | 535 |  1 |  92 | 689 | 4.114803e+04 | 7.998899e+04 |  94.39%| unknown\n",
      " 36.5s|   500 |   476 |270388 | 505.7 |    73M |  32 |4508 |2019 |1967 | 609 |  3 | 109 | 750 | 4.114803e+04 | 7.998899e+04 |  94.39%| unknown\n",
      "L36.9s|   508 |   484 |274462 | 505.8 |    rins|  32 |4508 |2027 |1967 | 609 |  1 | 117 | 750 | 4.114803e+04 | 7.998898e+04 |  94.39%| unknown\n",
      " 43.3s|   600 |   572 |344288 | 544.7 |    76M |  32 |4508 |2036 |1966 | 748 |  1 | 130 | 799 | 4.114803e+04 | 7.998898e+04 |  94.39%| unknown\n",
      " 47.0s|   700 |   670 |382277 | 521.1 |    78M |  43 |4508 |2043 |1969 | 800 |  2 | 139 | 841 | 4.114803e+04 | 7.998898e+04 |  94.39%| unknown\n",
      " time | node  | left  |LP iter|LP it/n|mem/heur|mdpt |vars |cons |rows |cuts |sepa|confs|strbr|  dualbound   | primalbound  |  gap   | compl. \n",
      " 50.8s|   800 |   758 |415782 | 497.8 |    81M |  49 |4508 |2090 |1971 | 846 |  1 | 188 | 888 | 4.114803e+04 | 7.998898e+04 |  94.39%| unknown\n",
      "L51.6s|   811 |   767 |424978 | 502.4 |    rins|  50 |4508 |2089 |1972 | 859 |  2 | 188 | 888 | 4.114803e+04 | 7.971480e+04 |  93.73%| unknown\n",
      " 55.1s|   900 |   856 |454690 | 485.7 |    86M |  53 |4508 |2137 |1970 | 932 |  2 | 238 | 944 | 4.114890e+04 | 7.971480e+04 |  93.72%| unknown\n",
      " 57.9s|  1000 |   944 |478780 | 461.2 |    88M |  53 |4508 |2138 |1970 | 968 |  3 | 241 | 995 | 4.114939e+04 | 7.971480e+04 |  93.72%| unknown\n",
      "L58.1s|  1011 |   953 |480362 | 457.8 |crossove|  53 |4508 |2139 |1971 | 982 |  1 | 243 | 995 | 4.114939e+04 | 7.970086e+04 |  93.69%| unknown\n",
      "\n",
      "SCIP Status        : solving was interrupted [time limit reached]\n",
      "Solving Time (sec) : 60.00\n",
      "Solving Nodes      : 1076\n",
      "Primal Bound       : +7.97008565132979e+04 (18 solutions)\n",
      "Dual Bound         : +4.11493868844523e+04\n",
      "Gap                : 93.69 %\n"
     ]
    }
   ],
   "source": [
    "instance_fp = np.random.choice(instances_fps)\n",
    "print(instance_fp.name)\n",
    "\n",
    "m = load_model(instance_fp)\n",
    "m.setRealParam('limits/time', 60.0)\n",
    "m.setIntParam('limits/maxsol', 500)\n",
    "m.setBoolParam('constraints/countsols/collect', True)\n",
    "\n",
    "m.optimize()"
   ]
  },
  {
   "cell_type": "code",
   "execution_count": 66,
   "metadata": {},
   "outputs": [
    {
     "data": {
      "image/png": "[encoded data removed]",
      "text/plain": [
       "<Figure size 640x480 with 1 Axes>"
      ]
     },
     "metadata": {},
     "output_type": "display_data"
    }
   ],
   "source": [
    "plt.plot(*m.get_primal_curve(), label='primal')\n",
    "plt.plot(*m.get_dual_curve(), label='dual')\n",
    "plt.ylim(0,1e6)\n",
    "\n",
    "plt.legend()\n",
    "plt.show()"
   ]
  }
 ],
 "metadata": {
  "kernelspec": {
   "display_name": "msc",
   "language": "python",
   "name": "python3"
  },
  "language_info": {
   "codemirror_mode": {
    "name": "ipython",
    "version": 3
   },
   "file_extension": ".py",
   "mimetype": "text/x-python",
   "name": "python",
   "nbconvert_exporter": "python",
   "pygments_lexer": "ipython3",
   "version": "3.11.7"
  },
  "orig_nbformat": 4
 },
 "nbformat": 4,
 "nbformat_minor": 2
}
