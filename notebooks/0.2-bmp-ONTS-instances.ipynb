{
 "cells": [
  {
   "cell_type": "code",
   "execution_count": 1,
   "metadata": {},
   "outputs": [],
   "source": [
    "%load_ext autoreload\n",
    "%autoreload 2\n",
    "\n",
    "import sys\n",
    "sys.path.append('..')  # enable import from src/"
   ]
  },
  {
   "cell_type": "code",
   "execution_count": 2,
   "metadata": {},
   "outputs": [],
   "source": [
    "from pathlib import Path\n",
    "\n",
    "import matplotlib.pyplot as plt\n",
    "import numpy as np\n",
    "\n",
    "from src.onts import ONTS"
   ]
  },
  {
   "cell_type": "code",
   "execution_count": 3,
   "metadata": {},
   "outputs": [
    {
     "data": {
      "text/plain": [
       "747"
      ]
     },
     "execution_count": 3,
     "metadata": {},
     "output_type": "execute_result"
    }
   ],
   "source": [
    "data_dir = Path('../data/raw/ONTS')\n",
    "\n",
    "instances_fps = list(data_dir.glob('*.json'))\n",
    "len(instances_fps)"
   ]
  },
  {
   "cell_type": "code",
   "execution_count": 4,
   "metadata": {},
   "outputs": [
    {
     "data": {
      "text/plain": [
       "ONTS(jobs=9, T=125, power_use=[3.0435829855418017, 2.2758954049860365, 0.5910958893977495, 3.43371579451716, 3.1519820578743114, 1.351358128661663, 0.735355518362439, 0.12677940327335196, 3.4421477560839318], power_resource=[0.0, 0.0, 0.0, 0.0, 0.0, 0.0, 0.0, 0.0, 0.0, 0.0, 0.0, 0.0, 0.0, 0.0, 0.0, 0.0, 6.76238733, 7.128866088, 7.455172248, 7.733763828, 7.957714518, 8.12148327, 8.337276306, 8.63864775, 8.866908144, 9.019286964, 9.094706784, 9.093013686, 9.015285096, 8.863983702, 8.642803536, 8.356362138, 8.01066231, 7.612168608, 7.168423014, 6.6877371, 6.178884192, 5.650945452, 5.113309878, 4.662637974, 4.536117378, 4.329405504, 4.04650422, 3.692031066, 3.272142762, 2.7936117, 2.653700238, 2.88134496, 3.070356264, 3.652320222, 4.23120582, 4.797316224, 5.341262436, 5.853655458, 6.325721964, 6.749458218, 7.11716832, 7.422387714, 7.659113598, 7.823036268, 7.910461692, 7.918927182, 7.847663148, 7.696515672, 7.467023934, 7.161650622, 6.784551522, 6.86397321, 7.179966864, 7.442089218, 7.644645306, 8.005429098, 8.34543396, 8.613405198, 8.806572288, 8.92416564, 8.966031336, 0.0, 0.0, 0.0, 0.0, 0.0, 0.0, 0.0, 0.0, 0.0, 0.0, 0.0, 0.0, 0.0, 0.0, 0.0, 0.0, 0.0, 0.0, 0.0, 0.0, 0.0, 0.0, 0.0, 0.0, 0.0, 0.0, 0.0, 0.0, 0.0, 0.0, 0.0, 0.0, 0.0, 0.0, 0.0, 0.0, 6.691123296, 7.065144036, 7.40037744, 7.689435444, 7.925083902, 8.101627848, 8.26924455, 8.585084286, 8.828582562, 8.996661018, 9.087780474, 9.101633094], min_cpu_time=[24, 13, 17, 15, 8, 13, 10, 18, 4], max_cpu_time=[44, 31, 55, 22, 11, 39, 43, 51, 56], min_job_period=[66, 97, 28, 53, 20, 115, 107, 107, 4], max_job_period=[105, 105, 41, 97, 47, 124, 119, 110, 96], min_startup=[1, 1, 1, 1, 2, 1, 1, 1, 3], max_startup=[49, 117, 80, 11, 46, 2, 57, 110, 91], priority=[1, 4, 2, 8, 9, 3, 5, 6, 7], win_min=[0, 18, 0, 0, 0, 0, 0, 0, 0], win_max=[125, 124, 125, 125, 125, 125, 125, 125, 125], subs=1, initial_soc=0.7, lower_limit=0.0, ef=0.9, v_bat=3.6, q=5, bat_usage=5)"
      ]
     },
     "execution_count": 4,
     "metadata": {},
     "output_type": "execute_result"
    }
   ],
   "source": [
    "instance = ONTS.from_file(np.random.choice(instances_fps))\n",
    "instance"
   ]
  },
  {
   "cell_type": "code",
   "execution_count": 5,
   "metadata": {},
   "outputs": [
    {
     "data": {
      "text/plain": [
       "<src.problem.ModelWithPrimalDualCurves at 0x7f48b3de6d60>"
      ]
     },
     "execution_count": 5,
     "metadata": {},
     "output_type": "execute_result"
    }
   ],
   "source": [
    "m = instance.to_scip()\n",
    "m"
   ]
  },
  {
   "cell_type": "code",
   "execution_count": 8,
   "metadata": {},
   "outputs": [
    {
     "name": "stdout",
     "output_type": "stream",
     "text": [
      "presolving:\n",
      "(round 1, fast)       186 del vars, 615 del conss, 0 add conss, 693 chg bounds, 0 chg sides, 0 chg coeffs, 0 upgd conss, 0 impls, 3855 clqs\n",
      "(round 2, fast)       188 del vars, 709 del conss, 0 add conss, 693 chg bounds, 0 chg sides, 0 chg coeffs, 0 upgd conss, 0 impls, 3862 clqs\n",
      "   (0.1s) running MILP presolver\n",
      "   (0.1s) MILP presolver (7 rounds): 75 aggregations, 0 fixings, 22 bound changes\n",
      "(round 3, medium)     263 del vars, 709 del conss, 0 add conss, 715 chg bounds, 0 chg sides, 0 chg coeffs, 0 upgd conss, 0 impls, 3826 clqs\n",
      "(round 4, fast)       263 del vars, 802 del conss, 0 add conss, 715 chg bounds, 0 chg sides, 0 chg coeffs, 0 upgd conss, 0 impls, 3828 clqs\n",
      "(round 5, fast)       285 del vars, 824 del conss, 0 add conss, 715 chg bounds, 0 chg sides, 0 chg coeffs, 0 upgd conss, 0 impls, 3828 clqs\n",
      "(round 6, exhaustive) 285 del vars, 859 del conss, 0 add conss, 715 chg bounds, 0 chg sides, 0 chg coeffs, 0 upgd conss, 0 impls, 3828 clqs\n",
      "(round 7, exhaustive) 285 del vars, 859 del conss, 0 add conss, 715 chg bounds, 0 chg sides, 0 chg coeffs, 12712 upgd conss, 0 impls, 3828 clqs\n",
      "(round 8, medium)     285 del vars, 5239 del conss, 22543 add conss, 715 chg bounds, 0 chg sides, 0 chg coeffs, 12712 upgd conss, 0 impls, 24189 clqs\n",
      "(round 9, exhaustive) 285 del vars, 5294 del conss, 22561 add conss, 715 chg bounds, 0 chg sides, 0 chg coeffs, 12712 upgd conss, 0 impls, 24189 clqs\n",
      "(round 10, exhaustive) 285 del vars, 5310 del conss, 22577 add conss, 715 chg bounds, 0 chg sides, 0 chg coeffs, 12712 upgd conss, 0 impls, 24190 clqs\n",
      "(round 11, exhaustive) 285 del vars, 5343 del conss, 22577 add conss, 715 chg bounds, 0 chg sides, 0 chg coeffs, 12712 upgd conss, 0 impls, 24205 clqs\n",
      "(round 12, exhaustive) 285 del vars, 5343 del conss, 22577 add conss, 715 chg bounds, 0 chg sides, 2395 chg coeffs, 12712 upgd conss, 0 impls, 24205 clqs\n",
      "   (1.4s) probing: 706/4422 (16.0%) - 0 fixings, 0 aggregations, 1201 implications, 0 bound changes\n",
      "   (1.4s) probing aborted: 50/50 successive totally useless probings\n",
      "   (1.5s) symmetry computation started: requiring (bin +, int -, cont +), (fixed: bin -, int +, cont -)\n",
      "   (1.6s) no symmetry present (symcode time: 0.01)\n",
      "presolving (13 rounds: 13 fast, 9 medium, 7 exhaustive):\n",
      " 285 deleted vars, 5344 deleted constraints, 22578 added constraints, 715 tightened bounds, 0 added holes, 0 changed sides, 2395 changed coefficients\n",
      " 233 implications, 27372 cliques\n",
      "presolved problem has 4590 variables (4422 bin, 0 int, 0 impl, 168 cont) and 31117 constraints\n",
      "  24170 constraints of type <setppc>\n",
      "    312 constraints of type <linear>\n",
      "   6635 constraints of type <logicor>\n",
      "transformed objective value is always integral (scale: 1)\n",
      "Presolving Time: 1.55\n",
      "\n",
      " time | node  | left  |LP iter|LP it/n|mem/heur|mdpt |vars |cons |rows |cuts |sepa|confs|strbr|  dualbound   | primalbound  |  gap   | compl. \n",
      "  2.6s|     1 |     0 | 11822 |     - |   292M |   0 |4590 |  31k|  31k|   0 |  0 |  35 |   0 | 1.482909e+04 |      --      |    Inf | unknown\n",
      "  4.4s|     1 |     0 | 27036 |     - |   302M |   0 |4590 |  31k|  31k|  10 |  1 |  39 |   0 | 1.479618e+04 |      --      |    Inf | unknown\n",
      "  4.6s|     1 |     0 | 27615 |     - |   306M |   0 |4590 |  31k|  31k|  20 |  2 |  42 |   0 | 1.476248e+04 |      --      |    Inf | unknown\n",
      "  4.9s|     1 |     0 | 29160 |     - |   310M |   0 |4590 |  31k|  31k|  38 |  3 |  47 |   0 | 1.468751e+04 |      --      |    Inf | unknown\n",
      "  5.0s|     1 |     0 | 29674 |     - |   314M |   0 |4590 |  31k|  31k|  55 |  4 |  49 |   0 | 1.463754e+04 |      --      |    Inf | unknown\n",
      "  5.2s|     1 |     0 | 30162 |     - |   319M |   0 |4590 |  31k|  31k|  70 |  5 |  52 |   0 | 1.461307e+04 |      --      |    Inf | unknown\n",
      "  5.4s|     1 |     0 | 30538 |     - |   327M |   0 |4590 |  31k|  31k|  80 |  6 |  54 |   0 | 1.460006e+04 |      --      |    Inf | unknown\n",
      "  5.8s|     1 |     0 | 32696 |     - |   333M |   0 |4590 |  31k|  31k| 102 |  7 |  56 |   0 | 1.456000e+04 |      --      |    Inf | unknown\n",
      "  6.0s|     1 |     0 | 34104 |     - |   337M |   0 |4590 |  31k|  31k| 115 |  8 |  60 |   0 | 1.453618e+04 |      --      |    Inf | unknown\n",
      "  6.3s|     1 |     0 | 35051 |     - |   342M |   0 |4590 |  31k|  31k| 133 |  9 |  64 |   0 | 1.452484e+04 |      --      |    Inf | unknown\n",
      "  6.6s|     1 |     0 | 37306 |     - |   347M |   0 |4590 |  31k|  31k| 153 | 10 |  66 |   0 | 1.450980e+04 |      --      |    Inf | unknown\n",
      "  6.8s|     1 |     0 | 38205 |     - |   351M |   0 |4590 |  31k|  31k| 170 | 11 |  69 |   0 | 1.449925e+04 |      --      |    Inf | unknown\n",
      "  7.0s|     1 |     0 | 39374 |     - |   354M |   0 |4590 |  31k|  31k| 192 | 12 |  70 |   0 | 1.449175e+04 |      --      |    Inf | unknown\n",
      "  7.1s|     1 |     0 | 40298 |     - |   358M |   0 |4590 |  31k|  31k| 204 | 13 |  74 |   0 | 1.448601e+04 |      --      |    Inf | unknown\n",
      "  7.3s|     1 |     0 | 41112 |     - |   361M |   0 |4590 |  31k|  31k| 218 | 14 |  76 |   0 | 1.447159e+04 |      --      |    Inf | unknown\n",
      " time | node  | left  |LP iter|LP it/n|mem/heur|mdpt |vars |cons |rows |cuts |sepa|confs|strbr|  dualbound   | primalbound  |  gap   | compl. \n",
      "  7.4s|     1 |     0 | 41610 |     - |   364M |   0 |4590 |  31k|  31k| 229 | 15 |  78 |   0 | 1.444980e+04 |      --      |    Inf | unknown\n",
      "  7.5s|     1 |     0 | 42284 |     - |   367M |   0 |4590 |  31k|  31k| 237 | 16 |  81 |   0 | 1.442747e+04 |      --      |    Inf | unknown\n",
      "  7.7s|     1 |     0 | 43884 |     - |   371M |   0 |4590 |  31k|  31k| 251 | 17 |  82 |   0 | 1.439798e+04 |      --      |    Inf | unknown\n",
      "  7.9s|     1 |     0 | 44833 |     - |   374M |   0 |4590 |  31k|  31k| 268 | 18 |  84 |   0 | 1.437956e+04 |      --      |    Inf | unknown\n",
      "  8.0s|     1 |     0 | 45392 |     - |   377M |   0 |4590 |  31k|  31k| 275 | 19 |  85 |   0 | 1.436959e+04 |      --      |    Inf | unknown\n",
      "  8.1s|     1 |     0 | 45900 |     - |   380M |   0 |4590 |  31k|  31k| 282 | 20 |  87 |   0 | 1.434367e+04 |      --      |    Inf | unknown\n",
      "  8.2s|     1 |     0 | 46078 |     - |   380M |   0 |4590 |  31k|  31k| 283 | 21 |  89 |   0 | 1.433237e+04 |      --      |    Inf | unknown\n",
      "  8.3s|     1 |     0 | 46714 |     - |   381M |   0 |4590 |  31k|  31k| 285 | 22 |  99 |   0 | 1.431484e+04 |      --      |    Inf | unknown\n",
      "  8.4s|     1 |     0 | 46920 |     - |   381M |   0 |4590 |  31k|  31k| 289 | 23 | 102 |   0 | 1.429435e+04 |      --      |    Inf | unknown\n",
      "  8.4s|     1 |     0 | 47015 |     - |   381M |   0 |4590 |  31k|  31k| 290 | 24 | 105 |   0 | 1.428429e+04 |      --      |    Inf | unknown\n",
      "  8.5s|     1 |     0 | 47289 |     - |   381M |   0 |4590 |  31k|  31k| 295 | 25 | 106 |   0 | 1.427808e+04 |      --      |    Inf | unknown\n",
      "  8.6s|     1 |     0 | 47729 |     - |   382M |   0 |4590 |  31k|  31k| 301 | 26 | 108 |   0 | 1.426907e+04 |      --      |    Inf | unknown\n",
      "  8.7s|     1 |     0 | 47830 |     - |   382M |   0 |4590 |  31k|  31k| 304 | 27 | 110 |   0 | 1.426779e+04 |      --      |    Inf | unknown\n",
      "  8.7s|     1 |     0 | 47854 |     - |   382M |   0 |4590 |  31k|  31k| 305 | 28 | 111 |   0 | 1.426327e+04 |      --      |    Inf | unknown\n",
      "  8.8s|     1 |     0 | 47875 |     - |   382M |   0 |4590 |  31k|  31k| 307 | 29 | 113 |   0 | 1.426281e+04 |      --      |    Inf | unknown\n",
      " time | node  | left  |LP iter|LP it/n|mem/heur|mdpt |vars |cons |rows |cuts |sepa|confs|strbr|  dualbound   | primalbound  |  gap   | compl. \n",
      "  8.8s|     1 |     0 | 47941 |     - |   382M |   0 |4590 |  31k|  31k| 309 | 30 | 119 |   0 | 1.425671e+04 |      --      |    Inf | unknown\n",
      "  8.9s|     1 |     0 | 48001 |     - |   383M |   0 |4590 |  31k|  31k| 310 | 31 | 121 |   0 | 1.425196e+04 |      --      |    Inf | unknown\n",
      "  8.9s|     1 |     0 | 48030 |     - |   383M |   0 |4590 |  31k|  31k| 312 | 32 | 123 |   0 | 1.425176e+04 |      --      |    Inf | unknown\n",
      "  9.0s|     1 |     0 | 48266 |     - |   383M |   0 |4590 |  31k|  31k| 314 | 33 | 125 |   0 | 1.424579e+04 |      --      |    Inf | unknown\n",
      "  9.1s|     1 |     0 | 48571 |     - |   383M |   0 |4590 |  31k|  31k| 317 | 34 | 128 |   0 | 1.422747e+04 |      --      |    Inf | unknown\n",
      "  9.2s|     1 |     0 | 48810 |     - |   384M |   0 |4590 |  31k|  31k| 320 | 35 | 135 |   0 | 1.421809e+04 |      --      |    Inf | unknown\n",
      "  9.2s|     1 |     0 | 48871 |     - |   384M |   0 |4590 |  31k|  31k| 322 | 36 | 136 |   0 | 1.421692e+04 |      --      |    Inf | unknown\n",
      "  9.3s|     1 |     0 | 49001 |     - |   384M |   0 |4590 |  31k|  31k| 325 | 37 | 137 |   0 | 1.421256e+04 |      --      |    Inf | unknown\n",
      "  9.4s|     1 |     0 | 49149 |     - |   385M |   0 |4590 |  31k|  31k| 328 | 38 | 138 |   0 | 1.420905e+04 |      --      |    Inf | unknown\n",
      "  9.4s|     1 |     0 | 49355 |     - |   385M |   0 |4590 |  31k|  31k| 331 | 39 | 139 |   0 | 1.420463e+04 |      --      |    Inf | unknown\n",
      "  9.5s|     1 |     0 | 49562 |     - |   385M |   0 |4590 |  31k|  31k| 335 | 40 | 140 |   0 | 1.419342e+04 |      --      |    Inf | unknown\n",
      "  9.6s|     1 |     0 | 49726 |     - |   385M |   0 |4590 |  31k|  31k| 339 | 41 | 147 |   0 | 1.418979e+04 |      --      |    Inf | unknown\n",
      "  9.6s|     1 |     0 | 49969 |     - |   385M |   0 |4590 |  31k|  31k| 342 | 42 | 149 |   0 | 1.417924e+04 |      --      |    Inf | unknown\n",
      "  9.7s|     1 |     0 | 50132 |     - |   385M |   0 |4590 |  31k|  31k| 344 | 43 | 152 |   0 | 1.416874e+04 |      --      |    Inf | unknown\n",
      "  9.8s|     1 |     0 | 50356 |     - |   386M |   0 |4590 |  31k|  31k| 346 | 44 | 153 |   0 | 1.416191e+04 |      --      |    Inf | unknown\n",
      " time | node  | left  |LP iter|LP it/n|mem/heur|mdpt |vars |cons |rows |cuts |sepa|confs|strbr|  dualbound   | primalbound  |  gap   | compl. \n",
      "  9.8s|     1 |     0 | 50481 |     - |   386M |   0 |4590 |  31k|  31k| 348 | 45 | 155 |   0 | 1.415517e+04 |      --      |    Inf | unknown\n",
      "  9.9s|     1 |     0 | 50516 |     - |   386M |   0 |4590 |  31k|  31k| 350 | 46 | 164 |   0 | 1.415208e+04 |      --      |    Inf | unknown\n",
      "  9.9s|     1 |     0 | 50599 |     - |   386M |   0 |4590 |  31k|  31k| 352 | 47 | 165 |   0 | 1.415002e+04 |      --      |    Inf | unknown\n",
      " 10.0s|     1 |     0 | 50686 |     - |   386M |   0 |4590 |  31k|  31k| 359 | 48 | 166 |   0 | 1.414550e+04 |      --      |    Inf | unknown\n",
      " 10.1s|     1 |     0 | 50796 |     - |   386M |   0 |4590 |  31k|  31k| 361 | 49 | 168 |   0 | 1.413761e+04 |      --      |    Inf | unknown\n",
      " 10.1s|     1 |     0 | 50878 |     - |   386M |   0 |4590 |  31k|  31k| 363 | 50 | 169 |   0 | 1.413308e+04 |      --      |    Inf | unknown\n",
      " 10.2s|     1 |     0 | 50947 |     - |   386M |   0 |4590 |  31k|  31k| 364 | 51 | 170 |   0 | 1.413308e+04 |      --      |    Inf | unknown\n",
      " 10.2s|     1 |     0 | 50951 |     - |   387M |   0 |4590 |  31k|  31k| 365 | 52 | 173 |   0 | 1.413308e+04 |      --      |    Inf | unknown\n",
      " 10.3s|     1 |     0 | 50984 |     - |   387M |   0 |4590 |  31k|  31k| 366 | 53 | 174 |   0 | 1.413308e+04 |      --      |    Inf | unknown\n",
      " 10.4s|     1 |     0 | 51137 |     - |   387M |   0 |4590 |  31k|  31k| 373 | 54 | 182 |   0 | 1.412890e+04 |      --      |    Inf | unknown\n",
      " 10.4s|     1 |     0 | 51231 |     - |   387M |   0 |4590 |  31k|  31k| 376 | 55 | 183 |   0 | 1.411993e+04 |      --      |    Inf | unknown\n",
      " 10.5s|     1 |     0 | 51302 |     - |   388M |   0 |4590 |  31k|  31k| 378 | 56 | 185 |   0 | 1.411824e+04 |      --      |    Inf | unknown\n",
      " 10.5s|     1 |     0 | 51338 |     - |   388M |   0 |4590 |  31k|  31k| 380 | 57 | 188 |   0 | 1.411697e+04 |      --      |    Inf | unknown\n",
      " 10.6s|     1 |     0 | 51343 |     - |   388M |   0 |4590 |  31k|  31k| 382 | 58 | 189 |   0 | 1.411600e+04 |      --      |    Inf | unknown\n",
      " 10.6s|     1 |     0 | 51372 |     - |   388M |   0 |4590 |  31k|  31k| 385 | 59 | 190 |   0 | 1.411591e+04 |      --      |    Inf | unknown\n",
      " time | node  | left  |LP iter|LP it/n|mem/heur|mdpt |vars |cons |rows |cuts |sepa|confs|strbr|  dualbound   | primalbound  |  gap   | compl. \n",
      " 10.7s|     1 |     0 | 51473 |     - |   389M |   0 |4590 |  31k|  31k| 388 | 60 | 192 |   0 | 1.410988e+04 |      --      |    Inf | unknown\n",
      " 10.7s|     1 |     0 | 51587 |     - |   389M |   0 |4590 |  31k|  31k| 392 | 61 | 194 |   0 | 1.409730e+04 |      --      |    Inf | unknown\n",
      " 10.8s|     1 |     0 | 51756 |     - |   389M |   0 |4590 |  31k|  31k| 395 | 62 | 197 |   0 | 1.407764e+04 |      --      |    Inf | unknown\n",
      " 10.9s|     1 |     0 | 51881 |     - |   389M |   0 |4590 |  31k|  31k| 399 | 63 | 202 |   0 | 1.407011e+04 |      --      |    Inf | unknown\n",
      " 10.9s|     1 |     0 | 51998 |     - |   389M |   0 |4590 |  31k|  31k| 403 | 64 | 205 |   0 | 1.406300e+04 |      --      |    Inf | unknown\n",
      " 11.0s|     1 |     0 | 52106 |     - |   390M |   0 |4590 |  31k|  31k| 406 | 65 | 208 |   0 | 1.405150e+04 |      --      |    Inf | unknown\n",
      " 11.0s|     1 |     0 | 52186 |     - |   390M |   0 |4590 |  31k|  31k| 408 | 66 | 209 |   0 | 1.404162e+04 |      --      |    Inf | unknown\n",
      " 11.1s|     1 |     0 | 52300 |     - |   390M |   0 |4590 |  31k|  31k| 411 | 67 | 212 |   0 | 1.402944e+04 |      --      |    Inf | unknown\n",
      " 11.2s|     1 |     0 | 52386 |     - |   391M |   0 |4590 |  31k|  31k| 414 | 68 | 215 |   0 | 1.401108e+04 |      --      |    Inf | unknown\n",
      " 11.2s|     1 |     0 | 52418 |     - |   391M |   0 |4590 |  31k|  31k| 417 | 69 | 217 |   0 | 1.400423e+04 |      --      |    Inf | unknown\n",
      " 11.3s|     1 |     0 | 52434 |     - |   391M |   0 |4590 |  31k|  31k| 419 | 70 | 224 |   0 | 1.400210e+04 |      --      |    Inf | unknown\n",
      " 11.4s|     1 |     0 | 52866 |     - |   391M |   0 |4590 |  31k|  31k| 425 | 71 | 226 |   0 | 1.399113e+04 |      --      |    Inf | unknown\n",
      " 11.4s|     1 |     0 | 53050 |     - |   391M |   0 |4590 |  31k|  31k| 430 | 72 | 227 |   0 | 1.398539e+04 |      --      |    Inf | unknown\n",
      " 11.5s|     1 |     0 | 53464 |     - |   391M |   0 |4590 |  31k|  31k| 436 | 73 | 228 |   0 | 1.397729e+04 |      --      |    Inf | unknown\n",
      " 11.6s|     1 |     0 | 53538 |     - |   392M |   0 |4590 |  31k|  31k| 438 | 74 | 230 |   0 | 1.397004e+04 |      --      |    Inf | unknown\n",
      " time | node  | left  |LP iter|LP it/n|mem/heur|mdpt |vars |cons |rows |cuts |sepa|confs|strbr|  dualbound   | primalbound  |  gap   | compl. \n",
      " 11.6s|     1 |     0 | 53742 |     - |   392M |   0 |4590 |  31k|  31k| 442 | 75 | 231 |   0 | 1.396840e+04 |      --      |    Inf | unknown\n",
      " 11.7s|     1 |     0 | 53780 |     - |   392M |   0 |4590 |  31k|  31k| 445 | 76 | 232 |   0 | 1.395836e+04 |      --      |    Inf | unknown\n",
      " 11.7s|     1 |     0 | 53972 |     - |   392M |   0 |4590 |  31k|  31k| 448 | 77 | 233 |   0 | 1.395326e+04 |      --      |    Inf | unknown\n",
      " 11.8s|     1 |     0 | 54001 |     - |   393M |   0 |4590 |  31k|  31k| 451 | 78 | 235 |   0 | 1.394346e+04 |      --      |    Inf | unknown\n",
      " 11.9s|     1 |     0 | 54234 |     - |   393M |   0 |4590 |  31k|  31k| 454 | 79 | 236 |   0 | 1.393949e+04 |      --      |    Inf | unknown\n",
      " 11.9s|     1 |     0 | 54524 |     - |   393M |   0 |4590 |  31k|  31k| 459 | 80 | 239 |   0 | 1.393402e+04 |      --      |    Inf | unknown\n",
      " 12.0s|     1 |     0 | 54759 |     - |   393M |   0 |4590 |  31k|  31k| 464 | 81 | 242 |   0 | 1.391817e+04 |      --      |    Inf | unknown\n",
      " 12.1s|     1 |     0 | 54886 |     - |   393M |   0 |4590 |  31k|  31k| 469 | 82 | 246 |   0 | 1.390847e+04 |      --      |    Inf | unknown\n",
      " 12.1s|     1 |     0 | 55018 |     - |   394M |   0 |4590 |  31k|  31k| 471 | 83 | 248 |   0 | 1.389973e+04 |      --      |    Inf | unknown\n",
      " 12.2s|     1 |     0 | 55132 |     - |   394M |   0 |4590 |  31k|  31k| 473 | 84 | 250 |   0 | 1.389592e+04 |      --      |    Inf | unknown\n",
      " 12.2s|     1 |     0 | 55204 |     - |   394M |   0 |4590 |  31k|  31k| 476 | 85 | 252 |   0 | 1.389142e+04 |      --      |    Inf | unknown\n",
      " 12.3s|     1 |     0 | 55379 |     - |   395M |   0 |4590 |  31k|  31k| 479 | 86 | 257 |   0 | 1.388913e+04 |      --      |    Inf | unknown\n",
      " 12.4s|     1 |     0 | 55436 |     - |   395M |   0 |4590 |  31k|  31k| 482 | 87 | 264 |   0 | 1.387866e+04 |      --      |    Inf | unknown\n",
      " 12.4s|     1 |     0 | 55507 |     - |   395M |   0 |4590 |  31k|  31k| 484 | 88 | 268 |   0 | 1.387273e+04 |      --      |    Inf | unknown\n",
      " 12.5s|     1 |     0 | 55592 |     - |   395M |   0 |4590 |  31k|  31k| 486 | 89 | 270 |   0 | 1.386331e+04 |      --      |    Inf | unknown\n",
      " time | node  | left  |LP iter|LP it/n|mem/heur|mdpt |vars |cons |rows |cuts |sepa|confs|strbr|  dualbound   | primalbound  |  gap   | compl. \n",
      " 12.5s|     1 |     0 | 55625 |     - |   395M |   0 |4590 |  31k|  31k| 488 | 90 | 271 |   0 | 1.385835e+04 |      --      |    Inf | unknown\n",
      " 12.6s|     1 |     0 | 55639 |     - |   396M |   0 |4590 |  31k|  31k| 490 | 91 | 273 |   0 | 1.385659e+04 |      --      |    Inf | unknown\n",
      " 12.6s|     1 |     0 | 55696 |     - |   396M |   0 |4590 |  31k|  31k| 491 | 92 | 275 |   0 | 1.384602e+04 |      --      |    Inf | unknown\n",
      " 12.7s|     1 |     0 | 55763 |     - |   396M |   0 |4590 |  31k|  31k| 493 | 93 | 276 |   0 | 1.383700e+04 |      --      |    Inf | unknown\n",
      " 12.7s|     1 |     0 | 55811 |     - |   396M |   0 |4590 |  31k|  31k| 496 | 94 | 278 |   0 | 1.382859e+04 |      --      |    Inf | unknown\n",
      " 12.8s|     1 |     0 | 55849 |     - |   396M |   0 |4590 |  31k|  31k| 500 | 95 | 280 |   0 | 1.382521e+04 |      --      |    Inf | unknown\n",
      " 12.8s|     1 |     0 | 55983 |     - |   397M |   0 |4590 |  31k|  31k| 504 | 96 | 282 |   0 | 1.382158e+04 |      --      |    Inf | unknown\n",
      " 12.9s|     1 |     0 | 56036 |     - |   397M |   0 |4590 |  31k|  31k| 512 | 97 | 284 |   0 | 1.381479e+04 |      --      |    Inf | unknown\n",
      " 13.0s|     1 |     0 | 56139 |     - |   397M |   0 |4590 |  31k|  31k| 518 | 98 | 286 |   0 | 1.380777e+04 |      --      |    Inf | unknown\n",
      " 13.0s|     1 |     0 | 56173 |     - |   397M |   0 |4590 |  31k|  31k| 521 | 99 | 287 |   0 | 1.380434e+04 |      --      |    Inf | unknown\n",
      " 13.1s|     1 |     0 | 56255 |     - |   398M |   0 |4590 |  31k|  31k| 525 |100 | 290 |   0 | 1.380221e+04 |      --      |    Inf | unknown\n",
      " 13.1s|     1 |     0 | 56281 |     - |   398M |   0 |4590 |  31k|  31k| 529 |101 | 291 |   0 | 1.380167e+04 |      --      |    Inf | unknown\n",
      " 13.2s|     1 |     0 | 56304 |     - |   398M |   0 |4590 |  31k|  31k| 532 |102 | 294 |   0 | 1.379433e+04 |      --      |    Inf | unknown\n",
      " 13.2s|     1 |     0 | 56322 |     - |   398M |   0 |4590 |  31k|  31k| 536 |103 | 296 |   0 | 1.379133e+04 |      --      |    Inf | unknown\n",
      " 13.3s|     1 |     0 | 56394 |     - |   399M |   0 |4590 |  31k|  31k| 544 |104 | 297 |   0 | 1.378630e+04 |      --      |    Inf | unknown\n",
      " time | node  | left  |LP iter|LP it/n|mem/heur|mdpt |vars |cons |rows |cuts |sepa|confs|strbr|  dualbound   | primalbound  |  gap   | compl. \n",
      " 13.3s|     1 |     0 | 56465 |     - |   399M |   0 |4590 |  31k|  31k| 549 |105 | 299 |   0 | 1.377661e+04 |      --      |    Inf | unknown\n",
      " 13.4s|     1 |     0 | 56598 |     - |   399M |   0 |4590 |  31k|  31k| 554 |106 | 301 |   0 | 1.376778e+04 |      --      |    Inf | unknown\n",
      " 13.4s|     1 |     0 | 56649 |     - |   399M |   0 |4590 |  31k|  31k| 563 |107 | 303 |   0 | 1.376588e+04 |      --      |    Inf | unknown\n",
      " 13.5s|     1 |     0 | 56772 |     - |   400M |   0 |4590 |  31k|  31k| 569 |108 | 307 |   0 | 1.375893e+04 |      --      |    Inf | unknown\n",
      " 13.5s|     1 |     0 | 56787 |     - |   400M |   0 |4590 |  31k|  31k| 575 |109 | 310 |   0 | 1.375199e+04 |      --      |    Inf | unknown\n",
      " 13.6s|     1 |     0 | 56858 |     - |   400M |   0 |4590 |  31k|  31k| 579 |110 | 313 |   0 | 1.374644e+04 |      --      |    Inf | unknown\n",
      " 13.7s|     1 |     0 | 56939 |     - |   400M |   0 |4590 |  31k|  31k| 583 |111 | 314 |   0 | 1.374317e+04 |      --      |    Inf | unknown\n",
      " 13.7s|     1 |     0 | 56960 |     - |   400M |   0 |4590 |  31k|  31k| 586 |112 | 315 |   0 | 1.374222e+04 |      --      |    Inf | unknown\n",
      " 13.8s|     1 |     0 | 57011 |     - |   400M |   0 |4590 |  31k|  31k| 590 |113 | 318 |   0 | 1.373111e+04 |      --      |    Inf | unknown\n",
      " 13.8s|     1 |     0 | 57020 |     - |   401M |   0 |4590 |  31k|  31k| 593 |114 | 320 |   0 | 1.373096e+04 |      --      |    Inf | unknown\n",
      " 13.8s|     1 |     0 | 57037 |     - |   401M |   0 |4590 |  31k|  31k| 597 |115 | 322 |   0 | 1.373089e+04 |      --      |    Inf | unknown\n",
      " 13.9s|     1 |     0 | 57043 |     - |   401M |   0 |4590 |  31k|  31k| 600 |116 | 324 |   0 | 1.373071e+04 |      --      |    Inf | unknown\n",
      " 13.9s|     1 |     0 | 57120 |     - |   401M |   0 |4590 |  31k|  31k| 603 |117 | 326 |   0 | 1.373042e+04 |      --      |    Inf | unknown\n",
      " 14.0s|     1 |     0 | 57138 |     - |   402M |   0 |4590 |  31k|  31k| 607 |118 | 329 |   0 | 1.372989e+04 |      --      |    Inf | unknown\n",
      " 14.0s|     1 |     0 | 57141 |     - |   402M |   0 |4590 |  31k|  31k| 610 |119 | 331 |   0 | 1.372895e+04 |      --      |    Inf | unknown\n",
      " time | node  | left  |LP iter|LP it/n|mem/heur|mdpt |vars |cons |rows |cuts |sepa|confs|strbr|  dualbound   | primalbound  |  gap   | compl. \n",
      " 14.1s|     1 |     0 | 57179 |     - |   402M |   0 |4590 |  31k|  31k| 614 |120 | 333 |   0 | 1.372674e+04 |      --      |    Inf | unknown\n",
      " 14.2s|     1 |     0 | 57785 |     - |   402M |   0 |4590 |  31k|  31k| 617 |121 | 335 |   0 | 1.372467e+04 |      --      |    Inf | unknown\n",
      " 14.3s|     1 |     0 | 57905 |     - |   402M |   0 |4590 |  31k|  31k| 621 |122 | 337 |   0 | 1.372128e+04 |      --      |    Inf | unknown\n",
      " 14.4s|     1 |     0 | 58128 |     - |   402M |   0 |4590 |  31k|  31k| 624 |123 | 338 |   0 | 1.371965e+04 |      --      |    Inf | unknown\n",
      " 14.5s|     1 |     0 | 58776 |     - |   403M |   0 |4590 |  31k|  31k| 628 |124 | 340 |   0 | 1.371064e+04 |      --      |    Inf | unknown\n",
      " 14.5s|     1 |     0 | 58973 |     - |   403M |   0 |4590 |  31k|  31k| 630 |125 | 342 |   0 | 1.370929e+04 |      --      |    Inf | unknown\n",
      " 14.6s|     1 |     0 | 59127 |     - |   403M |   0 |4590 |  31k|  31k| 633 |126 | 344 |   0 | 1.370686e+04 |      --      |    Inf | unknown\n",
      " 14.6s|     1 |     0 | 59370 |     - |   404M |   0 |4590 |  31k|  31k| 637 |127 | 347 |   0 | 1.370182e+04 |      --      |    Inf | unknown\n",
      " 14.7s|     1 |     0 | 59569 |     - |   404M |   0 |4590 |  31k|  31k| 639 |128 | 350 |   0 | 1.370157e+04 |      --      |    Inf | unknown\n",
      " 14.8s|     1 |     0 | 59817 |     - |   404M |   0 |4590 |  31k|  31k| 642 |129 | 353 |   0 | 1.369748e+04 |      --      |    Inf | unknown\n",
      " 14.8s|     1 |     0 | 59977 |     - |   404M |   0 |4590 |  31k|  31k| 647 |130 | 355 |   0 | 1.369013e+04 |      --      |    Inf | unknown\n",
      " 14.9s|     1 |     0 | 60325 |     - |   404M |   0 |4590 |  31k|  31k| 651 |131 | 358 |   0 | 1.368820e+04 |      --      |    Inf | unknown\n",
      " 15.0s|     1 |     0 | 60453 |     - |   405M |   0 |4590 |  31k|  31k| 653 |132 | 361 |   0 | 1.368624e+04 |      --      |    Inf | unknown\n",
      " 15.0s|     1 |     0 | 60535 |     - |   405M |   0 |4590 |  31k|  31k| 657 |133 | 364 |   0 | 1.368468e+04 |      --      |    Inf | unknown\n",
      " 15.1s|     1 |     0 | 60569 |     - |   405M |   0 |4590 |  31k|  31k| 659 |134 | 367 |   0 | 1.368394e+04 |      --      |    Inf | unknown\n",
      " time | node  | left  |LP iter|LP it/n|mem/heur|mdpt |vars |cons |rows |cuts |sepa|confs|strbr|  dualbound   | primalbound  |  gap   | compl. \n",
      " 15.1s|     1 |     0 | 60841 |     - |   405M |   0 |4590 |  31k|  31k| 661 |135 | 370 |   0 | 1.368241e+04 |      --      |    Inf | unknown\n",
      " 15.2s|     1 |     0 | 60963 |     - |   406M |   0 |4590 |  31k|  31k| 663 |136 | 379 |   0 | 1.368137e+04 |      --      |    Inf | unknown\n",
      " 15.2s|     1 |     0 | 60966 |     - |   406M |   0 |4590 |  31k|  31k| 664 |137 | 385 |   0 | 1.368137e+04 |      --      |    Inf | unknown\n",
      " 15.3s|     1 |     0 | 61014 |     - |   406M |   0 |4590 |  31k|  31k| 666 |138 | 388 |   0 | 1.368078e+04 |      --      |    Inf | unknown\n",
      " 15.3s|     1 |     0 | 61062 |     - |   406M |   0 |4590 |  31k|  31k| 667 |139 | 390 |   0 | 1.368032e+04 |      --      |    Inf | unknown\n",
      " 15.4s|     1 |     0 | 61191 |     - |   406M |   0 |4590 |  31k|  31k| 669 |140 | 391 |   0 | 1.367878e+04 |      --      |    Inf | unknown\n",
      " 15.4s|     1 |     0 | 61240 |     - |   406M |   0 |4590 |  31k|  31k| 670 |141 | 394 |   0 | 1.367823e+04 |      --      |    Inf | unknown\n",
      " 15.6s|     1 |     0 | 61928 |     - |   407M |   0 |4590 |  31k|  31k| 677 |142 | 396 |   0 | 1.367632e+04 |      --      |    Inf | unknown\n",
      " 15.6s|     1 |     0 | 62110 |     - |   407M |   0 |4590 |  31k|  31k| 686 |143 | 399 |   0 | 1.367521e+04 |      --      |    Inf | unknown\n",
      " 15.7s|     1 |     0 | 62214 |     - |   407M |   0 |4590 |  31k|  31k| 690 |144 | 402 |   0 | 1.367473e+04 |      --      |    Inf | unknown\n",
      " 15.8s|     1 |     0 | 62368 |     - |   407M |   0 |4590 |  31k|  31k| 693 |145 | 406 |   0 | 1.367472e+04 |      --      |    Inf | unknown\n",
      " 20.2s|     1 |     2 | 71876 |     - |   410M |   0 |4590 |  31k|  31k| 693 |147 | 429 |  19 | 1.367005e+04 |      --      |    Inf | unknown\n",
      "d51.6s|    79 |    78 | 90947 | 366.4 |veclendi|  33 |4590 |  31k|  31k|   0 |  1 | 520 | 900 | 1.344350e+04 | 9.225000e+03 |  45.73%| unknown\n",
      " 60.0s|   100 |    99 |183004 |1218.5 |   439M |  39 |4590 |  31k|  31k| 764 |  1 | 520 | 900 | 1.344350e+04 | 9.225000e+03 |  45.73%| unknown\n",
      "\n",
      "SCIP Status        : solving was interrupted [time limit reached]\n",
      "Solving Time (sec) : 60.00\n",
      "Solving Nodes      : 100\n",
      "Primal Bound       : +9.22500000000000e+03 (1 solutions)\n",
      "Dual Bound         : +1.34435026862259e+04\n",
      "Gap                : 45.73 %\n"
     ]
    }
   ],
   "source": [
    "m.optimize()"
   ]
  },
  {
   "cell_type": "code",
   "execution_count": 26,
   "metadata": {},
   "outputs": [
    {
     "data": {
      "image/png": "[encoded data removed]",
      "text/plain": [
       "<Figure size 640x480 with 1 Axes>"
      ]
     },
     "metadata": {},
     "output_type": "display_data"
    }
   ],
   "source": [
    "t, x = m.get_primal_curve()\n",
    "\n",
    "primal_t, primal_x = m.get_primal_curve()\n",
    "dual_t, dual_x = m.get_dual_curve()\n",
    "\n",
    "plt.plot(primal_t, primal_x, label='primal')\n",
    "plt.plot(dual_t, dual_x, label='dual')\n",
    "\n",
    "plt.ylim(-1e5, 1e5)\n",
    "\n",
    "plt.legend()\n",
    "plt.show()"
   ]
  },
  {
   "cell_type": "code",
   "execution_count": 27,
   "metadata": {},
   "outputs": [
    {
     "name": "stdout",
     "output_type": "stream",
     "text": [
      "../data/raw/ONTS/125_13_59.json\n"
     ]
    },
    {
     "data": {
      "text/plain": [
       "0.0"
      ]
     },
     "execution_count": 27,
     "metadata": {},
     "output_type": "execute_result"
    }
   ],
   "source": [
    "sols_dir = Path('../data/interim/ONTS')\n",
    "\n",
    "instance_fp = np.random.choice(instances_fps)\n",
    "\n",
    "opt_fpath = sols_dir/instance_fp.name.replace('.json', '_opt.npz')\n",
    "\n",
    "print(instance_fp)\n",
    "np.median(np.load(opt_fpath)['arr_3'])"
   ]
  },
  {
   "cell_type": "code",
   "execution_count": 33,
   "metadata": {},
   "outputs": [
    {
     "data": {
      "text/plain": [
       "0.0"
      ]
     },
     "execution_count": 33,
     "metadata": {},
     "output_type": "execute_result"
    }
   ],
   "source": [
    "np.abs(-np.load(opt_fpath)['arr_3'] + np.load(opt_fpath)['arr_3'].astype('uint8')).max()"
   ]
  },
  {
   "cell_type": "code",
   "execution_count": 42,
   "metadata": {},
   "outputs": [
    {
     "data": {
      "text/plain": [
       "207"
      ]
     },
     "execution_count": 42,
     "metadata": {},
     "output_type": "execute_result"
    }
   ],
   "source": [
    "from src.dataset import ONTSFeatures\n",
    "\n",
    "ds = ONTSFeatures(data_dir.glob('125_13_*.json'), sols_dir)\n",
    "len(ds)"
   ]
  },
  {
   "cell_type": "code",
   "execution_count": 45,
   "metadata": {},
   "outputs": [
    {
     "data": {
      "text/plain": [
       "((13, 11), (3250,))"
      ]
     },
     "execution_count": 45,
     "metadata": {},
     "output_type": "execute_result"
    }
   ],
   "source": [
    "x, y = ds[33]\n",
    "\n",
    "x.shape, y.shape"
   ]
  }
 ],
 "metadata": {
  "kernelspec": {
   "display_name": "msc",
   "language": "python",
   "name": "python3"
  },
  "language_info": {
   "codemirror_mode": {
    "name": "ipython",
    "version": 3
   },
   "file_extension": ".py",
   "mimetype": "text/x-python",
   "name": "python",
   "nbconvert_exporter": "python",
   "pygments_lexer": "ipython3",
   "version": "3.11.7"
  },
  "orig_nbformat": 4
 },
 "nbformat": 4,
 "nbformat_minor": 2
}
